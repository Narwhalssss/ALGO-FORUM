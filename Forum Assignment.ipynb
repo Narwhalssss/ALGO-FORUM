{
 "cells": [
  {
   "cell_type": "code",
   "execution_count": 14,
   "metadata": {},
   "outputs": [
    {
     "name": "stdout",
     "output_type": "stream",
     "text": [
      "Input the radius of the circle : \n",
      "The area of the circle with radius 5 is: 78.57142857142857\n"
     ]
    }
   ],
   "source": [
    "#1\n",
    "\n",
    "from cmath import pi\n",
    "\n",
    "\n",
    "r = eval(input(print(\"Input the radius of the circle : \")))\n",
    "print(\"The area of the circle with radius \" + str(r) + \" is: \" + str(pi * r**2))"
   ]
  },
  {
   "cell_type": "code",
   "execution_count": 1,
   "metadata": {},
   "outputs": [
    {
     "name": "stdout",
     "output_type": "stream",
     "text": [
      "enter your first name\n",
      "enter your last name\n",
      "['hame', 'leg']\n"
     ]
    }
   ],
   "source": [
    "#2\n",
    "firstName = input(print(\"enter your first name\"))\n",
    "lastName = input(print('enter your last name'))\n",
    "\n",
    "fullName = [firstName, lastName]\n",
    " \n",
    "fullName.reverse()\n",
    "\n",
    "print(fullName)"
   ]
  },
  {
   "cell_type": "code",
   "execution_count": 5,
   "metadata": {},
   "outputs": [
    {
     "name": "stdout",
     "output_type": "stream",
     "text": [
      "the first color isRed\n",
      "the last color isBlack\n"
     ]
    }
   ],
   "source": [
    "#3\n",
    "color_list = [\"Red\",\"Green\",\"White\",\"Black\"]\n",
    "\n",
    "print(f'the first color is{color_list[0]}')\n",
    "print(f'the last color is{color_list[-1]}')"
   ]
  },
  {
   "cell_type": "code",
   "execution_count": 8,
   "metadata": {},
   "outputs": [
    {
     "name": "stdout",
     "output_type": "stream",
     "text": [
      "The value is: 246\n"
     ]
    }
   ],
   "source": [
    "#4\n",
    "n=int(input(\"Enter a number n: \"))\n",
    "bruh=str(n)\n",
    "b1=bruh+bruh\n",
    "b2=bruh+bruh+bruh\n",
    "final=n+int(b1)+int(b2)\n",
    "print(\"The value is:\",final)"
   ]
  },
  {
   "cell_type": "code",
   "execution_count": 13,
   "metadata": {},
   "outputs": [
    {
     "name": "stdout",
     "output_type": "stream",
     "text": [
      "the volume of the spher is: 905.142857142857\n"
     ]
    }
   ],
   "source": [
    "#5 \n",
    "# The volume of the sphere is : V = 4/3 × π × r3 = π × d3/6.\n",
    "\n",
    "from cmath import pi\n",
    "r = 6\n",
    "v = 4/3 * pi * r**3\n",
    "(print('the volume of the spher is:', v))\n"
   ]
  },
  {
   "cell_type": "code",
   "execution_count": 10,
   "metadata": {},
   "outputs": [
    {
     "name": "stdout",
     "output_type": "stream",
     "text": [
      "enter a number : \n",
      "the doubled difference is 4\n"
     ]
    }
   ],
   "source": [
    "#6\n",
    "gvnNumber =eval(input(print('enter a number : ')))\n",
    "\n",
    "if gvnNumber > 17:\n",
    "    difference = gvnNumber - 17\n",
    "    doubleIt = difference * 2\n",
    "    print(\"the doubled difference is \" + str(doubleIt))\n",
    "else:\n",
    "    print('the number ' +  str(gvnNumber) + ' is lower than 17')\n",
    "\n",
    "    \n",
    "    \n",
    "    \n",
    "\n"
   ]
  },
  {
   "cell_type": "code",
   "execution_count": 13,
   "metadata": {},
   "outputs": [
    {
     "name": "stdout",
     "output_type": "stream",
     "text": [
      "enter the first number : \n",
      "enter the second number : \n",
      "enter the third number : \n",
      "6\n"
     ]
    }
   ],
   "source": [
    "#7\n",
    "nmbr1 = eval(input(print('enter the first number : ')))\n",
    "nmbr2 = eval(input(print('enter the second number : ')))\n",
    "nmbr3 = eval(input(print('enter the third number : ')))\n",
    "totalSum = nmbr1 + nmbr2 + nmbr3\n",
    "\n",
    "if nmbr1 == nmbr2 == nmbr3:\n",
    "     Xsum = totalSum * 3\n",
    "     print('because you inputed the same number totalsum is multiplied by 3 is ' + str(Xsum))\n",
    "else:\n",
    "    print(totalSum)"
   ]
  },
  {
   "cell_type": "code",
   "execution_count": null,
   "metadata": {},
   "outputs": [],
   "source": [
    "#8\n",
    "oddNumber = []\n",
    "evenNumber = []\n",
    "\n",
    "lowerBound = eval(input(\"enter a lower bound number: \"))\n",
    "\n",
    "while lowerBound < 0:\n",
    "    lower_bound = eval(input(print(\"re-enter a lower bound number:\")))\n",
    "else:\n",
    "    uperBound = eval(input(print(\"enter an uperbound number:\")))\n",
    "    for i in range(lower_bound, uperBound+1):\n",
    "        if i % 2 ==0:\n",
    "            evenNumber.append(i)\n",
    "    else:\n",
    "            oddNumber.append(i)\n",
    "\n",
    "print(f\"even numbers are{evenNumber}\")\n",
    "print(f\"odd numbers are{oddNumber}\")\n",
    "    "
   ]
  },
  {
   "cell_type": "code",
   "execution_count": 66,
   "metadata": {},
   "outputs": [
    {
     "name": "stdout",
     "output_type": "stream",
     "text": [
      "enter a letter: \n",
      "a is a vowel.\n"
     ]
    }
   ],
   "source": [
    "#9\n",
    "usrletter = input(print(\"enter a letter: \"))\n",
    "vowel = ('a', 'e', 'i', 'o', 'u')\n",
    "\n",
    "if usrletter in vowel:\n",
    "\tprint( usrletter + \" is a vowel.\" )\n",
    "else:\n",
    "\tprint( usrletter + \" is not a vowel\"  ) "
   ]
  },
  {
   "cell_type": "code",
   "execution_count": 18,
   "metadata": {},
   "outputs": [
    {
     "name": "stdout",
     "output_type": "stream",
     "text": [
      "enter a number : \n",
      "2is not in the spesified values \n"
     ]
    }
   ],
   "source": [
    "#10\n",
    "\n",
    "values = (2,4,6,8)\n",
    "usrValue = eval(input(print('enter a number : ')))\n",
    "\n",
    "if usrValue == values:\n",
    "    print( str(usrValue) + ' is in the spesified values ')\n",
    "else:\n",
    "    print( str(usrValue) + ' is not in the spesified values ')"
   ]
  },
  {
   "cell_type": "code",
   "execution_count": 19,
   "metadata": {},
   "outputs": [
    {
     "name": "stdout",
     "output_type": "stream",
     "text": [
      "*\n",
      "***\n",
      "******\n",
      "*****\n"
     ]
    }
   ],
   "source": [
    "#11\n",
    "def histogram( items ):\n",
    "    for dot in items:\n",
    "        output = ''\n",
    "        times = dot\n",
    "        while( times > 0 ):\n",
    "          output += '*'\n",
    "          times = times - 1\n",
    "        print(output)\n",
    "\n",
    "histogram([1, 3, 6, 5])"
   ]
  },
  {
   "cell_type": "code",
   "execution_count": 21,
   "metadata": {},
   "outputs": [
    {
     "name": "stdout",
     "output_type": "stream",
     "text": [
      "386\n",
      "462\n",
      "418\n",
      "344\n",
      "236\n",
      "566\n",
      "978\n",
      "328\n",
      "162\n",
      "758\n",
      "918\n",
      "237\n"
     ]
    }
   ],
   "source": [
    "#12\n",
    "\n",
    "numbers = [386, 462, 47, 418, 907, 344, 236, 375, 823, 566, 597, 978, 328, 615, 953, 345,\n",
    "399, 162, 758, 219, 918, 237, 412, 566, 826, 248, 866, 950, 626, 949, 687, 217,\n",
    "815, 67, 104, 58, 512, 24, 892, 894, 767, 553, 81, 379, 843, 831, 445, 742, 717,\n",
    "958,743, 527]\n",
    "\n",
    "for leg in numbers:\n",
    "    if leg == 237:\n",
    "        print(leg)\n",
    "        break\n",
    "    elif leg % 2 == 0:\n",
    "        print(leg)"
   ]
  },
  {
   "cell_type": "code",
   "execution_count": 22,
   "metadata": {},
   "outputs": [
    {
     "name": "stdout",
     "output_type": "stream",
     "text": [
      "enter the height of the triangle \n",
      "enter the length of the triangle \n",
      "the area of the triangle is 5.0\n"
     ]
    }
   ],
   "source": [
    "#13\n",
    "\n",
    "height = eval(input(print('enter the height of the triangle ')))\n",
    "length = eval(input(print('enter the length of the triangle ')))\n",
    "\n",
    "area = 1/2 * height * length\n",
    "print(\"the area of the triangle is\", area)"
   ]
  },
  {
   "cell_type": "code",
   "execution_count": 24,
   "metadata": {},
   "outputs": [
    {
     "name": "stdout",
     "output_type": "stream",
     "text": [
      "60\n"
     ]
    }
   ],
   "source": [
    "#14\n",
    "def lcm(a, b):\n",
    "  if a > b:\n",
    "      a = b\n",
    "  else:\n",
    "      c = b\n",
    "  while(True):\n",
    "      if((c % a == 0) and (c % b == 0)):\n",
    "          lcm = c\n",
    "          break\n",
    "      c += 1\n",
    "  return lcm\n",
    "print(lcm(10, 12))"
   ]
  },
  {
   "cell_type": "code",
   "execution_count": 27,
   "metadata": {},
   "outputs": [
    {
     "name": "stdout",
     "output_type": "stream",
     "text": [
      "enter the first number : \n",
      "enter the second number : \n",
      "enter the third number : \n",
      "the total sum is  6\n"
     ]
    }
   ],
   "source": [
    "#15\n",
    "nmbr4 = eval(input(print('enter the first number : ')))\n",
    "nmbr5 = eval(input(print('enter the second number : ')))\n",
    "nmbr6 = eval(input(print('enter the third number : ')))\n",
    "TotalSum = nmbr4 + nmbr5 + nmbr6\n",
    "\n",
    "if nmbr4 == nmbr5:\n",
    "    print('because there are two numbers that are the same, the sum is 0')\n",
    "elif nmbr4 == nmbr6:\n",
    "    print('because there are two numbers that are the same, the sum is 0')\n",
    "elif nmbr5 == nmbr6:\n",
    "    print('because there are two numbers that are the same, the sum is 0')\n",
    "else:\n",
    "    print('the total sum is ',TotalSum)    \n"
   ]
  },
  {
   "cell_type": "code",
   "execution_count": 38,
   "metadata": {},
   "outputs": [
    {
     "name": "stdout",
     "output_type": "stream",
     "text": [
      "(4 + 3) ^ 2) = 49\n"
     ]
    }
   ],
   "source": [
    "#16 Write a Python program to solve (x + y) * (x + y).\n",
    "#Sample Data : x = 4, y = 3\n",
    "#Expected Output : (4 + 3) ^ 2) = 49\n",
    "\n",
    "x = 4\n",
    "y = 3\n",
    "total = x * x + 2 * x * y + y * y\n",
    "print(\"({} + {}) ^ 2) = {}\".format(x, y, total))\n",
    "\n"
   ]
  },
  {
   "cell_type": "code",
   "execution_count": 1,
   "metadata": {},
   "outputs": [
    {
     "ename": "SyntaxError",
     "evalue": "invalid syntax. Perhaps you forgot a comma? (2378096348.py, line 5)",
     "output_type": "error",
     "traceback": [
      "\u001b[1;36m  Cell \u001b[1;32mIn [1], line 5\u001b[1;36m\u001b[0m\n\u001b[1;33m    interest = eval(input(Print('enter the interest amount : '))\u001b[0m\n\u001b[1;37m                    ^\u001b[0m\n\u001b[1;31mSyntaxError\u001b[0m\u001b[1;31m:\u001b[0m invalid syntax. Perhaps you forgot a comma?\n"
     ]
    }
   ],
   "source": [
    "#17  Write a Python program to compute the future value of a specified principal amount, rate of interest, and a number of years\n",
    "#Sample Data : amt = 10000, int = 3.5, years = 7\n",
    "#Expected Output : 12722.79\n",
    "\n",
    "interest = eval(input(Print('enter the interest amount : '))\n",
    "money = eval(input(Print('enter the amount of money : '))\n",
    "years = eval(input(Print('enter the amount of years :'))\n",
    "             \n",
    "calculateIntrst = (interest/100 * money)**years + money\n",
    "\n",
    "print(calculateIntrst) "
   ]
  },
  {
   "cell_type": "code",
   "execution_count": 41,
   "metadata": {},
   "outputs": [
    {
     "name": "stdout",
     "output_type": "stream",
     "text": [
      "enter the first x\n",
      "enter the first y\n",
      "enter the second x\n",
      "enter the second y\n",
      "the distance between  (4, 9) and  (7, 9) is  (4.242640687119285+0j)\n"
     ]
    }
   ],
   "source": [
    "#18\n",
    "from cmath import sqrt\n",
    "\n",
    "x3 = eval(input(print('enter the first x')))\n",
    "y3 = eval(input(print('enter the first y')))\n",
    "x4 = eval(input(print('enter the second x')))\n",
    "y4 = eval(input(print('enter the second y')))\n",
    "total = sqrt((x4 - x3)**2 + (y4 - y3)**2)\n",
    "\n",
    "print('the distance between ', (x3,y4), 'and ', (x4,y4), 'is ', total)\n"
   ]
  },
  {
   "cell_type": "code",
   "execution_count": 45,
   "metadata": {},
   "outputs": [
    {
     "name": "stdout",
     "output_type": "stream",
     "text": [
      "input a number: \n",
      "Sum of the first 8 positive integers: 36.0\n"
     ]
    }
   ],
   "source": [
    "#19\n",
    "number = eval(input(print(\"input a number: \")))\n",
    "sums = (number * (number + 1)) / 2\n",
    "print(\"Sum of the first\", number ,\"positive integers:\", sums)"
   ]
  },
  {
   "cell_type": "code",
   "execution_count": 30,
   "metadata": {},
   "outputs": [
    {
     "name": "stdout",
     "output_type": "stream",
     "text": [
      "feet:\n",
      "inches:\n",
      "that is  134.62 in CM\n"
     ]
    }
   ],
   "source": [
    "#20\n",
    "\n",
    "\n",
    "feet = eval(input(print(\"feet:\")))\n",
    "inches = eval(input(print(\"inches:\")))\n",
    "\n",
    "htInCm = feet*12*2.54 + inches*2.54\n",
    "print('that is ', htInCm, \"in Cm\")"
   ]
  },
  {
   "cell_type": "code",
   "execution_count": 33,
   "metadata": {},
   "outputs": [
    {
     "name": "stdout",
     "output_type": "stream",
     "text": [
      "enter the first leg \n",
      "enter the first leg \n",
      "the hypotenuse is  7.0710678118654755\n"
     ]
    }
   ],
   "source": [
    "#21\n",
    "\n",
    "from math import sqrt\n",
    "\n",
    "a = eval(input(print('enter the first leg ')))\n",
    "b = eval(input(print('enter the first leg ')))\n",
    "c = sqrt(a**2 + b**2)\n",
    "\n",
    "print('the hypotenuse is ', c)"
   ]
  },
  {
   "cell_type": "code",
   "execution_count": 35,
   "metadata": {},
   "outputs": [
    {
     "name": "stdout",
     "output_type": "stream",
     "text": [
      "input your height in m \n",
      "input your weight in Kg \n",
      "your Body Mass Index is 0.0023875114784205694\n"
     ]
    }
   ],
   "source": [
    "#22\n",
    "\n",
    "height = eval(input(print('input your height in m ')))\n",
    "weight = eval(input(print('input your weight in Kg ')))\n",
    "sqrheight = height**2\n",
    "bmi = weight/sqrheight\n",
    "\n",
    "print('your Body Mass Index is', bmi)\n"
   ]
  },
  {
   "cell_type": "code",
   "execution_count": 32,
   "metadata": {},
   "outputs": [
    {
     "name": "stdout",
     "output_type": "stream",
     "text": [
      "enter the first x \n",
      "enter the first y \n",
      "enter the second x \n",
      "enter the second y \n",
      "The midpoint of this line is (1.0, 5.0)\n"
     ]
    }
   ],
   "source": [
    "#23\n",
    "\n",
    "x1 = eval(input(print('enter the first x ' )))\n",
    "y1 = eval(input(print('enter the first y ' )))\n",
    "x2 = eval(input(print('enter the second x ' )))\n",
    "y2 = eval(input(print('enter the second y ' )))\n",
    "\n",
    "totalX = (x1 + x2)/2\n",
    "totaly = (y1 + y2)/2\n",
    "\n",
    "print(f'The midpoint of this line is {totalX, totaly}')"
   ]
  },
  {
   "cell_type": "code",
   "execution_count": 3,
   "metadata": {},
   "outputs": [
    {
     "name": "stdout",
     "output_type": "stream",
     "text": [
      "2002,2009,2016,2023,2037,2044,2051,2058,2072,2079,2086,2093,2107,2114,2121,2128,2142,2149,2156,2163,2177,2184,2191,2198,2212,2219,2226,2233,2247,2254,2261,2268,2282,2289,2296,2303,2317,2324,2331,2338,2352,2359,2366,2373,2387,2394,2401,2408,2422,2429,2436,2443,2457,2464,2471,2478,2492,2499,2506,2513,2527,2534,2541,2548,2562,2569,2576,2583,2597,2604,2611,2618,2632,2639,2646,2653,2667,2674,2681,2688,2702,2709,2716,2723,2737,2744,2751,2758,2772,2779,2786,2793,2807,2814,2821,2828,2842,2849,2856,2863,2877,2884,2891,2898,2912,2919,2926,2933,2947,2954,2961,2968,2982,2989,2996,3003,3017,3024,3031,3038,3052,3059,3066,3073,3087,3094,3101,3108,3122,3129,3136,3143,3157,3164,3171,3178,3192,3199,"
     ]
    }
   ],
   "source": [
    "#24\n",
    "for bruh in range(2000, 3201):\n",
    "    if bruh % 7 == 0 and bruh % 5 != 0:\n",
    "        print(bruh,end=',')\n",
    "    \n"
   ]
  }
 ],
 "metadata": {
  "kernelspec": {
   "display_name": "Python 3.10.7 64-bit",
   "language": "python",
   "name": "python3"
  },
  "language_info": {
   "codemirror_mode": {
    "name": "ipython",
    "version": 3
   },
   "file_extension": ".py",
   "mimetype": "text/x-python",
   "name": "python",
   "nbconvert_exporter": "python",
   "pygments_lexer": "ipython3",
   "version": "3.10.7"
  },
  "orig_nbformat": 4,
  "vscode": {
   "interpreter": {
    "hash": "996dfd79f88377ce15e98a2b0075db32240cafe6d8e904602c74215488f12733"
   }
  }
 },
 "nbformat": 4,
 "nbformat_minor": 2
}
